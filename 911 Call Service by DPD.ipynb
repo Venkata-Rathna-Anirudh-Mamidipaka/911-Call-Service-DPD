{
 "cells": [
  {
   "cell_type": "markdown",
   "metadata": {},
   "source": [
    "# DPD: 911 Calls for Service"
   ]
  },
  {
   "cell_type": "markdown",
   "metadata": {},
   "source": [
    "# Introduction"
   ]
  },
  {
   "cell_type": "markdown",
   "metadata": {},
   "source": [
    "This data represents all the 911 police emergency calls for service response and officer-initiated call for service in the City of Detroit from the beginning September 20, 2016 - present. People call 911 to request police services during emergency. Calls for which officer was initiated include traffic stops, street investigations and other policing activities like observing crimes in progress where the police officers were initiated. This data includes the responding agency, unit, call type and category of each call. The table includes all the calls taken, dispatch time, travel time and total response time for all the calls serviced by a police agency."
   ]
  },
  {
   "cell_type": "markdown",
   "metadata": {},
   "source": [
    "# Importing"
   ]
  },
  {
   "cell_type": "code",
   "execution_count": 64,
   "metadata": {},
   "outputs": [],
   "source": [
    "import numpy as np\n",
    "import pandas as pd\n",
    "import matplotlib.pyplot as plt\n",
    "%matplotlib inline\n",
    "import seaborn as sns"
   ]
  },
  {
   "cell_type": "code",
   "execution_count": 65,
   "metadata": {},
   "outputs": [],
   "source": [
    "import os"
   ]
  },
  {
   "cell_type": "code",
   "execution_count": 66,
   "metadata": {},
   "outputs": [],
   "source": [
    "import os\n",
    "path=\"/Users/Anirudh MVR\"\n",
    "os.chdir(path)"
   ]
  },
  {
   "cell_type": "code",
   "execution_count": 67,
   "metadata": {},
   "outputs": [
    {
     "data": {
      "text/plain": [
       "'C:\\\\Users\\\\Anirudh MVR'"
      ]
     },
     "execution_count": 67,
     "metadata": {},
     "output_type": "execute_result"
    }
   ],
   "source": [
    "os.getcwd()"
   ]
  },
  {
   "cell_type": "code",
   "execution_count": 68,
   "metadata": {},
   "outputs": [],
   "source": [
    "df = pd.read_csv('data.csv', low_memory=False)"
   ]
  },
  {
   "cell_type": "markdown",
   "metadata": {},
   "source": [
    "# Data Wrangling"
   ]
  },
  {
   "cell_type": "code",
   "execution_count": 82,
   "metadata": {},
   "outputs": [
    {
     "data": {
      "text/html": [
       "<div>\n",
       "<style scoped>\n",
       "    .dataframe tbody tr th:only-of-type {\n",
       "        vertical-align: middle;\n",
       "    }\n",
       "\n",
       "    .dataframe tbody tr th {\n",
       "        vertical-align: top;\n",
       "    }\n",
       "\n",
       "    .dataframe thead th {\n",
       "        text-align: right;\n",
       "    }\n",
       "</style>\n",
       "<table border=\"1\" class=\"dataframe\">\n",
       "  <thead>\n",
       "    <tr style=\"text-align: right;\">\n",
       "      <th></th>\n",
       "      <th>Incident ID</th>\n",
       "      <th>Agency</th>\n",
       "      <th>Incident Address</th>\n",
       "      <th>Zip Code</th>\n",
       "      <th>Priority</th>\n",
       "      <th>Call Code</th>\n",
       "      <th>Call Description</th>\n",
       "      <th>Category</th>\n",
       "      <th>Call Time</th>\n",
       "      <th>Time of Call</th>\n",
       "      <th>...</th>\n",
       "      <th>Travel Time</th>\n",
       "      <th>Total Response Time</th>\n",
       "      <th>Time On Scene</th>\n",
       "      <th>Total Time</th>\n",
       "      <th>Neighborhood</th>\n",
       "      <th>Census Block GEOID</th>\n",
       "      <th>Council District</th>\n",
       "      <th>Longitude</th>\n",
       "      <th>Latitude</th>\n",
       "      <th>Incident Location</th>\n",
       "    </tr>\n",
       "  </thead>\n",
       "  <tbody>\n",
       "    <tr>\n",
       "      <th>0</th>\n",
       "      <td>201801600016</td>\n",
       "      <td>DPD</td>\n",
       "      <td>2400 block of S BASSETT ST</td>\n",
       "      <td>48217</td>\n",
       "      <td>1.0</td>\n",
       "      <td>343010</td>\n",
       "      <td>FELONIOUS ASSAULT IP</td>\n",
       "      <td>FA IP</td>\n",
       "      <td>01/16/2018 12:06:06 AM</td>\n",
       "      <td>12:06:06 AM</td>\n",
       "      <td>...</td>\n",
       "      <td>NaN</td>\n",
       "      <td>NaN</td>\n",
       "      <td>NaN</td>\n",
       "      <td>NaN</td>\n",
       "      <td>Boynton</td>\n",
       "      <td>2.616352e+14</td>\n",
       "      <td>6.0</td>\n",
       "      <td>-83.150709</td>\n",
       "      <td>42.268094</td>\n",
       "      <td>location\\n(42.2680942952788, -83.150708724902)</td>\n",
       "    </tr>\n",
       "    <tr>\n",
       "      <th>1</th>\n",
       "      <td>201801600348</td>\n",
       "      <td>DPD</td>\n",
       "      <td>5100 block of CASS AVE</td>\n",
       "      <td>48201</td>\n",
       "      <td>3.0</td>\n",
       "      <td>W4812</td>\n",
       "      <td>BUILDING CHECK</td>\n",
       "      <td>BLDGCHK</td>\n",
       "      <td>01/16/2018 03:01:19 AM</td>\n",
       "      <td>3:01:19 AM</td>\n",
       "      <td>...</td>\n",
       "      <td>0</td>\n",
       "      <td>0</td>\n",
       "      <td>79.2</td>\n",
       "      <td>79.2</td>\n",
       "      <td>Wayne State</td>\n",
       "      <td>2.616352e+14</td>\n",
       "      <td>6.0</td>\n",
       "      <td>-83.066717</td>\n",
       "      <td>42.355942</td>\n",
       "      <td>location\\n(42.355941500239, -83.0667170676879)</td>\n",
       "    </tr>\n",
       "    <tr>\n",
       "      <th>2</th>\n",
       "      <td>201801200482</td>\n",
       "      <td>DPD</td>\n",
       "      <td>16400 block of E WARREN AVE</td>\n",
       "      <td>48224</td>\n",
       "      <td>3.0</td>\n",
       "      <td>SA</td>\n",
       "      <td>SPECIAL ATTENTION</td>\n",
       "      <td>SPCL ATT</td>\n",
       "      <td>01/12/2018 03:58:49 AM</td>\n",
       "      <td>3:58:49 AM</td>\n",
       "      <td>...</td>\n",
       "      <td>0</td>\n",
       "      <td>0</td>\n",
       "      <td>11.1</td>\n",
       "      <td>11.1</td>\n",
       "      <td>Morningside</td>\n",
       "      <td>2.616350e+14</td>\n",
       "      <td>4.0</td>\n",
       "      <td>-82.937162</td>\n",
       "      <td>42.403382</td>\n",
       "      <td>location\\n(42.4033824178846, -82.9371618461517)</td>\n",
       "    </tr>\n",
       "    <tr>\n",
       "      <th>3</th>\n",
       "      <td>201733002964</td>\n",
       "      <td>DPD</td>\n",
       "      <td>22300 block of GRAND RIVER AVE</td>\n",
       "      <td>48219</td>\n",
       "      <td>1.0</td>\n",
       "      <td>343010</td>\n",
       "      <td>FELONIOUS ASSAULT IP</td>\n",
       "      <td>FA IP</td>\n",
       "      <td>11/26/2017 07:58:57 PM</td>\n",
       "      <td>7:58:57 PM</td>\n",
       "      <td>...</td>\n",
       "      <td>3</td>\n",
       "      <td>7.1</td>\n",
       "      <td>148.1</td>\n",
       "      <td>155.2</td>\n",
       "      <td>Old Redford</td>\n",
       "      <td>2.616354e+14</td>\n",
       "      <td>1.0</td>\n",
       "      <td>-83.261757</td>\n",
       "      <td>42.418236</td>\n",
       "      <td>location\\n(42.4182358051442, -83.2617570584306)</td>\n",
       "    </tr>\n",
       "    <tr>\n",
       "      <th>4</th>\n",
       "      <td>201732501446</td>\n",
       "      <td>DPD</td>\n",
       "      <td>19300 block of GRAND RIVER AVE</td>\n",
       "      <td>48223</td>\n",
       "      <td>3.0</td>\n",
       "      <td>361030</td>\n",
       "      <td>LARCENY I/P OR J/H</td>\n",
       "      <td>LARCENY</td>\n",
       "      <td>11/21/2017 01:10:30 PM</td>\n",
       "      <td>1:10:30 PM</td>\n",
       "      <td>...</td>\n",
       "      <td>NaN</td>\n",
       "      <td>NaN</td>\n",
       "      <td>NaN</td>\n",
       "      <td>NaN</td>\n",
       "      <td>Rosedale Park</td>\n",
       "      <td>2.616354e+14</td>\n",
       "      <td>1.0</td>\n",
       "      <td>-83.231836</td>\n",
       "      <td>42.406086</td>\n",
       "      <td>location\\n(42.4060859317248, -83.2318357622364)</td>\n",
       "    </tr>\n",
       "  </tbody>\n",
       "</table>\n",
       "<p>5 rows × 25 columns</p>\n",
       "</div>"
      ],
      "text/plain": [
       "    Incident ID Agency                Incident Address Zip Code  Priority  \\\n",
       "0  201801600016   DPD       2400 block of S BASSETT ST    48217       1.0   \n",
       "1  201801600348   DPD           5100 block of CASS AVE    48201       3.0   \n",
       "2  201801200482   DPD      16400 block of E WARREN AVE    48224       3.0   \n",
       "3  201733002964   DPD   22300 block of GRAND RIVER AVE    48219       1.0   \n",
       "4  201732501446   DPD   19300 block of GRAND RIVER AVE    48223       3.0   \n",
       "\n",
       "  Call Code      Call Description  Category               Call Time  \\\n",
       "0    343010  FELONIOUS ASSAULT IP  FA IP     01/16/2018 12:06:06 AM   \n",
       "1    W4812         BUILDING CHECK  BLDGCHK   01/16/2018 03:01:19 AM   \n",
       "2    SA         SPECIAL ATTENTION  SPCL ATT  01/12/2018 03:58:49 AM   \n",
       "3    343010  FELONIOUS ASSAULT IP  FA IP     11/26/2017 07:58:57 PM   \n",
       "4    361030    LARCENY I/P OR J/H  LARCENY   11/21/2017 01:10:30 PM   \n",
       "\n",
       "  Time of Call                       ...                        Travel Time  \\\n",
       "0  12:06:06 AM                       ...                                NaN   \n",
       "1   3:01:19 AM                       ...                                  0   \n",
       "2   3:58:49 AM                       ...                                  0   \n",
       "3   7:58:57 PM                       ...                                  3   \n",
       "4   1:10:30 PM                       ...                                NaN   \n",
       "\n",
       "  Total Response Time Time On Scene Total Time   Neighborhood  \\\n",
       "0                 NaN           NaN        NaN        Boynton   \n",
       "1                   0          79.2       79.2    Wayne State   \n",
       "2                   0          11.1       11.1    Morningside   \n",
       "3                 7.1         148.1      155.2    Old Redford   \n",
       "4                 NaN           NaN        NaN  Rosedale Park   \n",
       "\n",
       "  Census Block GEOID Council District  Longitude   Latitude  \\\n",
       "0       2.616352e+14              6.0 -83.150709  42.268094   \n",
       "1       2.616352e+14              6.0 -83.066717  42.355942   \n",
       "2       2.616350e+14              4.0 -82.937162  42.403382   \n",
       "3       2.616354e+14              1.0 -83.261757  42.418236   \n",
       "4       2.616354e+14              1.0 -83.231836  42.406086   \n",
       "\n",
       "                                 Incident Location  \n",
       "0   location\\n(42.2680942952788, -83.150708724902)  \n",
       "1   location\\n(42.355941500239, -83.0667170676879)  \n",
       "2  location\\n(42.4033824178846, -82.9371618461517)  \n",
       "3  location\\n(42.4182358051442, -83.2617570584306)  \n",
       "4  location\\n(42.4060859317248, -83.2318357622364)  \n",
       "\n",
       "[5 rows x 25 columns]"
      ]
     },
     "execution_count": 82,
     "metadata": {},
     "output_type": "execute_result"
    }
   ],
   "source": [
    "df.head()"
   ]
  },
  {
   "cell_type": "markdown",
   "metadata": {},
   "source": [
    "Step 1: Checking null-values"
   ]
  },
  {
   "cell_type": "code",
   "execution_count": 83,
   "metadata": {},
   "outputs": [
    {
     "name": "stdout",
     "output_type": "stream",
     "text": [
      "['Priority', 'Responding Unit', 'Intake Time', 'Dispatch Time', 'Travel Time', 'Total Response Time', 'Time On Scene', 'Total Time', 'Neighborhood', 'Census Block GEOID', 'Council District', 'Longitude', 'Latitude', 'Incident Location']\n"
     ]
    }
   ],
   "source": [
    "print(df.columns[df.isnull().any()].tolist())"
   ]
  },
  {
   "cell_type": "markdown",
   "metadata": {},
   "source": [
    "Step 2: Removing unnecessary columns"
   ]
  },
  {
   "cell_type": "code",
   "execution_count": 84,
   "metadata": {},
   "outputs": [],
   "source": [
    "df.drop(df.columns[[0,1]], axis=1, inplace=True)"
   ]
  },
  {
   "cell_type": "markdown",
   "metadata": {},
   "source": [
    "Step 3: Removal of null-values"
   ]
  },
  {
   "cell_type": "code",
   "execution_count": 69,
   "metadata": {},
   "outputs": [],
   "source": [
    "df_new = df.dropna()"
   ]
  },
  {
   "cell_type": "code",
   "execution_count": 70,
   "metadata": {},
   "outputs": [
    {
     "data": {
      "text/html": [
       "<div>\n",
       "<style scoped>\n",
       "    .dataframe tbody tr th:only-of-type {\n",
       "        vertical-align: middle;\n",
       "    }\n",
       "\n",
       "    .dataframe tbody tr th {\n",
       "        vertical-align: top;\n",
       "    }\n",
       "\n",
       "    .dataframe thead th {\n",
       "        text-align: right;\n",
       "    }\n",
       "</style>\n",
       "<table border=\"1\" class=\"dataframe\">\n",
       "  <thead>\n",
       "    <tr style=\"text-align: right;\">\n",
       "      <th></th>\n",
       "      <th>Incident ID</th>\n",
       "      <th>Agency</th>\n",
       "      <th>Incident Address</th>\n",
       "      <th>Zip Code</th>\n",
       "      <th>Priority</th>\n",
       "      <th>Call Code</th>\n",
       "      <th>Call Description</th>\n",
       "      <th>Category</th>\n",
       "      <th>Call Time</th>\n",
       "      <th>Time of Call</th>\n",
       "      <th>...</th>\n",
       "      <th>Travel Time</th>\n",
       "      <th>Total Response Time</th>\n",
       "      <th>Time On Scene</th>\n",
       "      <th>Total Time</th>\n",
       "      <th>Neighborhood</th>\n",
       "      <th>Census Block GEOID</th>\n",
       "      <th>Council District</th>\n",
       "      <th>Longitude</th>\n",
       "      <th>Latitude</th>\n",
       "      <th>Incident Location</th>\n",
       "    </tr>\n",
       "  </thead>\n",
       "  <tbody>\n",
       "    <tr>\n",
       "      <th>3</th>\n",
       "      <td>201733002964</td>\n",
       "      <td>DPD</td>\n",
       "      <td>22300 block of GRAND RIVER AVE</td>\n",
       "      <td>48219</td>\n",
       "      <td>1.0</td>\n",
       "      <td>343010</td>\n",
       "      <td>FELONIOUS ASSAULT IP</td>\n",
       "      <td>FA IP</td>\n",
       "      <td>11/26/2017 07:58:57 PM</td>\n",
       "      <td>7:58:57 PM</td>\n",
       "      <td>...</td>\n",
       "      <td>3</td>\n",
       "      <td>7.1</td>\n",
       "      <td>148.1</td>\n",
       "      <td>155.2</td>\n",
       "      <td>Old Redford</td>\n",
       "      <td>2.616354e+14</td>\n",
       "      <td>1.0</td>\n",
       "      <td>-83.261757</td>\n",
       "      <td>42.418236</td>\n",
       "      <td>location\\n(42.4182358051442, -83.2617570584306)</td>\n",
       "    </tr>\n",
       "    <tr>\n",
       "      <th>5</th>\n",
       "      <td>201732700280</td>\n",
       "      <td>DPD</td>\n",
       "      <td>21700 block of SCHOOLCRAFT ST</td>\n",
       "      <td>48223</td>\n",
       "      <td>3.0</td>\n",
       "      <td>SA</td>\n",
       "      <td>SPECIAL ATTENTION</td>\n",
       "      <td>SPCL ATT</td>\n",
       "      <td>11/23/2017 01:38:50 AM</td>\n",
       "      <td>1:38:50 AM</td>\n",
       "      <td>...</td>\n",
       "      <td>0</td>\n",
       "      <td>0</td>\n",
       "      <td>18.4</td>\n",
       "      <td>18.4</td>\n",
       "      <td>Brightmoor</td>\n",
       "      <td>2.616354e+14</td>\n",
       "      <td>1.0</td>\n",
       "      <td>-83.255588</td>\n",
       "      <td>42.385950</td>\n",
       "      <td>location\\n(42.3859496020119, -83.2555877567355)</td>\n",
       "    </tr>\n",
       "    <tr>\n",
       "      <th>7</th>\n",
       "      <td>201732503353</td>\n",
       "      <td>DPD</td>\n",
       "      <td>Corner of JOY RD and PATTON ST</td>\n",
       "      <td>48228</td>\n",
       "      <td>2.0</td>\n",
       "      <td>TS</td>\n",
       "      <td>TRAFFIC STOP</td>\n",
       "      <td>TRF STOP</td>\n",
       "      <td>11/21/2017 10:51:43 PM</td>\n",
       "      <td>10:51:43 PM</td>\n",
       "      <td>...</td>\n",
       "      <td>0</td>\n",
       "      <td>0</td>\n",
       "      <td>15.4</td>\n",
       "      <td>15.4</td>\n",
       "      <td>Warrendale</td>\n",
       "      <td>2.616355e+14</td>\n",
       "      <td>7.0</td>\n",
       "      <td>-83.242107</td>\n",
       "      <td>42.357486</td>\n",
       "      <td>location\\n(42.3574864009718, -83.2421065494255)</td>\n",
       "    </tr>\n",
       "    <tr>\n",
       "      <th>9</th>\n",
       "      <td>201803900252</td>\n",
       "      <td>DPD</td>\n",
       "      <td>Corner of E WARREN AVE and CONNER ST</td>\n",
       "      <td>48214</td>\n",
       "      <td>3.0</td>\n",
       "      <td>W8190</td>\n",
       "      <td>TOWING DETAIL</td>\n",
       "      <td>TOW</td>\n",
       "      <td>02/08/2018 02:31:00 AM</td>\n",
       "      <td>2:31:00 AM</td>\n",
       "      <td>...</td>\n",
       "      <td>0</td>\n",
       "      <td>0</td>\n",
       "      <td>0.3</td>\n",
       "      <td>0.3</td>\n",
       "      <td>Conner Creek Industrial</td>\n",
       "      <td>2.616399e+14</td>\n",
       "      <td>4.0</td>\n",
       "      <td>-82.975907</td>\n",
       "      <td>42.389305</td>\n",
       "      <td>location\\n(42.3893050750403, -82.9759073917964)</td>\n",
       "    </tr>\n",
       "    <tr>\n",
       "      <th>10</th>\n",
       "      <td>201803900198</td>\n",
       "      <td>DPD</td>\n",
       "      <td>1600 block of E STATE FAIR ST</td>\n",
       "      <td>48203</td>\n",
       "      <td>3.0</td>\n",
       "      <td>825030</td>\n",
       "      <td>DISTURBANCE</td>\n",
       "      <td>DISTURB</td>\n",
       "      <td>02/08/2018 01:57:34 AM</td>\n",
       "      <td>1:57:34 AM</td>\n",
       "      <td>...</td>\n",
       "      <td>22</td>\n",
       "      <td>28.3</td>\n",
       "      <td>5.5</td>\n",
       "      <td>33.7</td>\n",
       "      <td>Nolan</td>\n",
       "      <td>2.616351e+14</td>\n",
       "      <td>3.0</td>\n",
       "      <td>-83.087857</td>\n",
       "      <td>42.440017</td>\n",
       "      <td>location\\n(42.4400172286691, -83.087857179485)</td>\n",
       "    </tr>\n",
       "  </tbody>\n",
       "</table>\n",
       "<p>5 rows × 25 columns</p>\n",
       "</div>"
      ],
      "text/plain": [
       "     Incident ID Agency                      Incident Address Zip Code  \\\n",
       "3   201733002964   DPD         22300 block of GRAND RIVER AVE    48219   \n",
       "5   201732700280   DPD          21700 block of SCHOOLCRAFT ST    48223   \n",
       "7   201732503353   DPD         Corner of JOY RD and PATTON ST    48228   \n",
       "9   201803900252   DPD   Corner of E WARREN AVE and CONNER ST    48214   \n",
       "10  201803900198   DPD          1600 block of E STATE FAIR ST    48203   \n",
       "\n",
       "    Priority Call Code      Call Description  Category  \\\n",
       "3        1.0    343010  FELONIOUS ASSAULT IP  FA IP      \n",
       "5        3.0    SA         SPECIAL ATTENTION  SPCL ATT   \n",
       "7        2.0    TS              TRAFFIC STOP  TRF STOP   \n",
       "9        3.0    W8190          TOWING DETAIL  TOW        \n",
       "10       3.0    825030           DISTURBANCE  DISTURB    \n",
       "\n",
       "                 Call Time Time of Call  \\\n",
       "3   11/26/2017 07:58:57 PM   7:58:57 PM   \n",
       "5   11/23/2017 01:38:50 AM   1:38:50 AM   \n",
       "7   11/21/2017 10:51:43 PM  10:51:43 PM   \n",
       "9   02/08/2018 02:31:00 AM   2:31:00 AM   \n",
       "10  02/08/2018 01:57:34 AM   1:57:34 AM   \n",
       "\n",
       "                         ...                        Travel Time  \\\n",
       "3                        ...                                  3   \n",
       "5                        ...                                  0   \n",
       "7                        ...                                  0   \n",
       "9                        ...                                  0   \n",
       "10                       ...                                 22   \n",
       "\n",
       "   Total Response Time Time On Scene Total Time             Neighborhood  \\\n",
       "3                  7.1         148.1      155.2              Old Redford   \n",
       "5                    0          18.4       18.4               Brightmoor   \n",
       "7                    0          15.4       15.4               Warrendale   \n",
       "9                    0           0.3        0.3  Conner Creek Industrial   \n",
       "10                28.3           5.5       33.7                    Nolan   \n",
       "\n",
       "   Census Block GEOID Council District  Longitude   Latitude  \\\n",
       "3        2.616354e+14              1.0 -83.261757  42.418236   \n",
       "5        2.616354e+14              1.0 -83.255588  42.385950   \n",
       "7        2.616355e+14              7.0 -83.242107  42.357486   \n",
       "9        2.616399e+14              4.0 -82.975907  42.389305   \n",
       "10       2.616351e+14              3.0 -83.087857  42.440017   \n",
       "\n",
       "                                  Incident Location  \n",
       "3   location\\n(42.4182358051442, -83.2617570584306)  \n",
       "5   location\\n(42.3859496020119, -83.2555877567355)  \n",
       "7   location\\n(42.3574864009718, -83.2421065494255)  \n",
       "9   location\\n(42.3893050750403, -82.9759073917964)  \n",
       "10   location\\n(42.4400172286691, -83.087857179485)  \n",
       "\n",
       "[5 rows x 25 columns]"
      ]
     },
     "execution_count": 70,
     "metadata": {},
     "output_type": "execute_result"
    }
   ],
   "source": [
    "df_new.head()"
   ]
  },
  {
   "cell_type": "code",
   "execution_count": 77,
   "metadata": {},
   "outputs": [
    {
     "data": {
      "text/html": [
       "<div>\n",
       "<style scoped>\n",
       "    .dataframe tbody tr th:only-of-type {\n",
       "        vertical-align: middle;\n",
       "    }\n",
       "\n",
       "    .dataframe tbody tr th {\n",
       "        vertical-align: top;\n",
       "    }\n",
       "\n",
       "    .dataframe thead th {\n",
       "        text-align: right;\n",
       "    }\n",
       "</style>\n",
       "<table border=\"1\" class=\"dataframe\">\n",
       "  <thead>\n",
       "    <tr style=\"text-align: right;\">\n",
       "      <th></th>\n",
       "      <th>Incident ID</th>\n",
       "      <th>Agency</th>\n",
       "      <th>Incident Address</th>\n",
       "      <th>Zip Code</th>\n",
       "      <th>Priority</th>\n",
       "      <th>Call Code</th>\n",
       "      <th>Call Description</th>\n",
       "      <th>Category</th>\n",
       "      <th>Call Time</th>\n",
       "      <th>Time of Call</th>\n",
       "      <th>...</th>\n",
       "      <th>Travel Time</th>\n",
       "      <th>Total Response Time</th>\n",
       "      <th>Time On Scene</th>\n",
       "      <th>Total Time</th>\n",
       "      <th>Neighborhood</th>\n",
       "      <th>Census Block GEOID</th>\n",
       "      <th>Council District</th>\n",
       "      <th>Longitude</th>\n",
       "      <th>Latitude</th>\n",
       "      <th>Incident Location</th>\n",
       "    </tr>\n",
       "  </thead>\n",
       "  <tbody>\n",
       "    <tr>\n",
       "      <th>1173527</th>\n",
       "      <td>201722702315</td>\n",
       "      <td>DPD</td>\n",
       "      <td>4500 block of WOODWARD AVE</td>\n",
       "      <td>48201</td>\n",
       "      <td>3.0</td>\n",
       "      <td>SA</td>\n",
       "      <td>SPECIAL ATTENTION</td>\n",
       "      <td>SPCL ATT</td>\n",
       "      <td>08/15/2017 04:19:55 PM</td>\n",
       "      <td>4:19:55 PM</td>\n",
       "      <td>...</td>\n",
       "      <td>0</td>\n",
       "      <td>0</td>\n",
       "      <td>6.5</td>\n",
       "      <td>6.5</td>\n",
       "      <td>Midtown</td>\n",
       "      <td>2.616352e+14</td>\n",
       "      <td>6.0</td>\n",
       "      <td>-83.062100</td>\n",
       "      <td>42.353558</td>\n",
       "      <td>location\\n(42.3535581849384, -83.0620998777846)</td>\n",
       "    </tr>\n",
       "    <tr>\n",
       "      <th>1173528</th>\n",
       "      <td>201722701121</td>\n",
       "      <td>DPD</td>\n",
       "      <td>4500 block of WOODWARD AVE</td>\n",
       "      <td>48201</td>\n",
       "      <td>3.0</td>\n",
       "      <td>W9999</td>\n",
       "      <td>INFORMATION/NON-CRIMINAL RPT</td>\n",
       "      <td>INFORPT</td>\n",
       "      <td>08/15/2017 10:18:27 AM</td>\n",
       "      <td>10:18:27 AM</td>\n",
       "      <td>...</td>\n",
       "      <td>0</td>\n",
       "      <td>0</td>\n",
       "      <td>0.1</td>\n",
       "      <td>0.2</td>\n",
       "      <td>Midtown</td>\n",
       "      <td>2.616352e+14</td>\n",
       "      <td>6.0</td>\n",
       "      <td>-83.062100</td>\n",
       "      <td>42.353558</td>\n",
       "      <td>location\\n(42.3535581849384, -83.0620998777846)</td>\n",
       "    </tr>\n",
       "    <tr>\n",
       "      <th>1173529</th>\n",
       "      <td>201722703859</td>\n",
       "      <td>DPD</td>\n",
       "      <td>100 block of PETERBORO ST</td>\n",
       "      <td>48201</td>\n",
       "      <td>3.0</td>\n",
       "      <td>843030</td>\n",
       "      <td>INVESTIGATE PERSON</td>\n",
       "      <td>INVPERS</td>\n",
       "      <td>08/15/2017 11:26:58 PM</td>\n",
       "      <td>11:26:58 PM</td>\n",
       "      <td>...</td>\n",
       "      <td>10.2</td>\n",
       "      <td>17.6</td>\n",
       "      <td>11.7</td>\n",
       "      <td>29.4</td>\n",
       "      <td>Midtown</td>\n",
       "      <td>2.616352e+14</td>\n",
       "      <td>6.0</td>\n",
       "      <td>-83.057557</td>\n",
       "      <td>42.344970</td>\n",
       "      <td>location\\n(42.3449695993451, -83.057557498342)</td>\n",
       "    </tr>\n",
       "    <tr>\n",
       "      <th>1173536</th>\n",
       "      <td>201732500858</td>\n",
       "      <td>DPD</td>\n",
       "      <td>2900 block of KENDALL ST</td>\n",
       "      <td>48238</td>\n",
       "      <td>1.0</td>\n",
       "      <td>396010</td>\n",
       "      <td>CHILD /  ADULT ABUSE</td>\n",
       "      <td>ABUSE</td>\n",
       "      <td>11/21/2017 09:27:54 AM</td>\n",
       "      <td>9:27:54 AM</td>\n",
       "      <td>...</td>\n",
       "      <td>0</td>\n",
       "      <td>0</td>\n",
       "      <td>4.4</td>\n",
       "      <td>4.4</td>\n",
       "      <td>Oakman Blvd Community</td>\n",
       "      <td>2.616353e+14</td>\n",
       "      <td>2.0</td>\n",
       "      <td>-83.128477</td>\n",
       "      <td>42.396596</td>\n",
       "      <td>location\\n(42.3965964398923, -83.1284770756502)</td>\n",
       "    </tr>\n",
       "    <tr>\n",
       "      <th>1173537</th>\n",
       "      <td>201732500785</td>\n",
       "      <td>DPD</td>\n",
       "      <td>600 block of SEWARD ST</td>\n",
       "      <td>48202</td>\n",
       "      <td>2.0</td>\n",
       "      <td>312020</td>\n",
       "      <td>SUICIDE THREAT</td>\n",
       "      <td>SUICTHRT</td>\n",
       "      <td>11/21/2017 08:56:16 AM</td>\n",
       "      <td>8:56:16 AM</td>\n",
       "      <td>...</td>\n",
       "      <td>7.4</td>\n",
       "      <td>12.5</td>\n",
       "      <td>26.9</td>\n",
       "      <td>39.4</td>\n",
       "      <td>New Center Commons</td>\n",
       "      <td>2.616353e+14</td>\n",
       "      <td>5.0</td>\n",
       "      <td>-83.080629</td>\n",
       "      <td>42.373530</td>\n",
       "      <td>location\\n(42.3735303316245, -83.0806291376661)</td>\n",
       "    </tr>\n",
       "  </tbody>\n",
       "</table>\n",
       "<p>5 rows × 25 columns</p>\n",
       "</div>"
      ],
      "text/plain": [
       "          Incident ID Agency            Incident Address Zip Code  Priority  \\\n",
       "1173527  201722702315   DPD   4500 block of WOODWARD AVE    48201       3.0   \n",
       "1173528  201722701121   DPD   4500 block of WOODWARD AVE    48201       3.0   \n",
       "1173529  201722703859   DPD    100 block of PETERBORO ST    48201       3.0   \n",
       "1173536  201732500858   DPD     2900 block of KENDALL ST    48238       1.0   \n",
       "1173537  201732500785   DPD       600 block of SEWARD ST    48202       2.0   \n",
       "\n",
       "        Call Code              Call Description  Category  \\\n",
       "1173527    SA                 SPECIAL ATTENTION  SPCL ATT   \n",
       "1173528    W9999   INFORMATION/NON-CRIMINAL RPT  INFORPT    \n",
       "1173529    843030            INVESTIGATE PERSON  INVPERS    \n",
       "1173536    396010          CHILD /  ADULT ABUSE  ABUSE      \n",
       "1173537    312020                SUICIDE THREAT  SUICTHRT   \n",
       "\n",
       "                      Call Time Time of Call  \\\n",
       "1173527  08/15/2017 04:19:55 PM   4:19:55 PM   \n",
       "1173528  08/15/2017 10:18:27 AM  10:18:27 AM   \n",
       "1173529  08/15/2017 11:26:58 PM  11:26:58 PM   \n",
       "1173536  11/21/2017 09:27:54 AM   9:27:54 AM   \n",
       "1173537  11/21/2017 08:56:16 AM   8:56:16 AM   \n",
       "\n",
       "                              ...                        Travel Time  \\\n",
       "1173527                       ...                                  0   \n",
       "1173528                       ...                                  0   \n",
       "1173529                       ...                               10.2   \n",
       "1173536                       ...                                  0   \n",
       "1173537                       ...                                7.4   \n",
       "\n",
       "        Total Response Time Time On Scene Total Time           Neighborhood  \\\n",
       "1173527                   0           6.5        6.5                Midtown   \n",
       "1173528                   0           0.1        0.2                Midtown   \n",
       "1173529                17.6          11.7       29.4                Midtown   \n",
       "1173536                   0           4.4        4.4  Oakman Blvd Community   \n",
       "1173537                12.5          26.9       39.4     New Center Commons   \n",
       "\n",
       "        Census Block GEOID Council District  Longitude   Latitude  \\\n",
       "1173527       2.616352e+14              6.0 -83.062100  42.353558   \n",
       "1173528       2.616352e+14              6.0 -83.062100  42.353558   \n",
       "1173529       2.616352e+14              6.0 -83.057557  42.344970   \n",
       "1173536       2.616353e+14              2.0 -83.128477  42.396596   \n",
       "1173537       2.616353e+14              5.0 -83.080629  42.373530   \n",
       "\n",
       "                                       Incident Location  \n",
       "1173527  location\\n(42.3535581849384, -83.0620998777846)  \n",
       "1173528  location\\n(42.3535581849384, -83.0620998777846)  \n",
       "1173529   location\\n(42.3449695993451, -83.057557498342)  \n",
       "1173536  location\\n(42.3965964398923, -83.1284770756502)  \n",
       "1173537  location\\n(42.3735303316245, -83.0806291376661)  \n",
       "\n",
       "[5 rows x 25 columns]"
      ]
     },
     "execution_count": 77,
     "metadata": {},
     "output_type": "execute_result"
    }
   ],
   "source": [
    "df_new.tail()"
   ]
  },
  {
   "cell_type": "markdown",
   "metadata": {},
   "source": [
    "# Data Description"
   ]
  },
  {
   "cell_type": "code",
   "execution_count": 78,
   "metadata": {},
   "outputs": [
    {
     "data": {
      "text/html": [
       "<div>\n",
       "<style scoped>\n",
       "    .dataframe tbody tr th:only-of-type {\n",
       "        vertical-align: middle;\n",
       "    }\n",
       "\n",
       "    .dataframe tbody tr th {\n",
       "        vertical-align: top;\n",
       "    }\n",
       "\n",
       "    .dataframe thead th {\n",
       "        text-align: right;\n",
       "    }\n",
       "</style>\n",
       "<table border=\"1\" class=\"dataframe\">\n",
       "  <thead>\n",
       "    <tr style=\"text-align: right;\">\n",
       "      <th></th>\n",
       "      <th>Incident ID</th>\n",
       "      <th>Priority</th>\n",
       "      <th>Census Block GEOID</th>\n",
       "      <th>Council District</th>\n",
       "      <th>Longitude</th>\n",
       "      <th>Latitude</th>\n",
       "    </tr>\n",
       "  </thead>\n",
       "  <tbody>\n",
       "    <tr>\n",
       "      <th>count</th>\n",
       "      <td>4.415760e+05</td>\n",
       "      <td>441576.000000</td>\n",
       "      <td>4.415760e+05</td>\n",
       "      <td>441576.000000</td>\n",
       "      <td>441576.000000</td>\n",
       "      <td>441576.000000</td>\n",
       "    </tr>\n",
       "    <tr>\n",
       "      <th>mean</th>\n",
       "      <td>2.017493e+11</td>\n",
       "      <td>2.560676</td>\n",
       "      <td>2.616351e+14</td>\n",
       "      <td>4.340782</td>\n",
       "      <td>-83.099933</td>\n",
       "      <td>42.382769</td>\n",
       "    </tr>\n",
       "    <tr>\n",
       "      <th>std</th>\n",
       "      <td>5.741148e+07</td>\n",
       "      <td>0.791402</td>\n",
       "      <td>1.032734e+10</td>\n",
       "      <td>1.929937</td>\n",
       "      <td>0.090638</td>\n",
       "      <td>0.038138</td>\n",
       "    </tr>\n",
       "    <tr>\n",
       "      <th>min</th>\n",
       "      <td>2.016264e+11</td>\n",
       "      <td>1.000000</td>\n",
       "      <td>2.609926e+14</td>\n",
       "      <td>1.000000</td>\n",
       "      <td>-83.287780</td>\n",
       "      <td>42.255712</td>\n",
       "    </tr>\n",
       "    <tr>\n",
       "      <th>25%</th>\n",
       "      <td>2.017123e+11</td>\n",
       "      <td>2.000000</td>\n",
       "      <td>2.616351e+14</td>\n",
       "      <td>3.000000</td>\n",
       "      <td>-83.179104</td>\n",
       "      <td>42.353671</td>\n",
       "    </tr>\n",
       "    <tr>\n",
       "      <th>50%</th>\n",
       "      <td>2.017305e+11</td>\n",
       "      <td>3.000000</td>\n",
       "      <td>2.616352e+14</td>\n",
       "      <td>5.000000</td>\n",
       "      <td>-83.083258</td>\n",
       "      <td>42.380185</td>\n",
       "    </tr>\n",
       "    <tr>\n",
       "      <th>75%</th>\n",
       "      <td>2.018101e+11</td>\n",
       "      <td>3.000000</td>\n",
       "      <td>2.616354e+14</td>\n",
       "      <td>6.000000</td>\n",
       "      <td>-83.033062</td>\n",
       "      <td>42.417137</td>\n",
       "    </tr>\n",
       "    <tr>\n",
       "      <th>max</th>\n",
       "      <td>2.018190e+11</td>\n",
       "      <td>7.000000</td>\n",
       "      <td>2.616399e+14</td>\n",
       "      <td>7.000000</td>\n",
       "      <td>-82.910559</td>\n",
       "      <td>42.450304</td>\n",
       "    </tr>\n",
       "  </tbody>\n",
       "</table>\n",
       "</div>"
      ],
      "text/plain": [
       "        Incident ID       Priority  Census Block GEOID  Council District  \\\n",
       "count  4.415760e+05  441576.000000        4.415760e+05     441576.000000   \n",
       "mean   2.017493e+11       2.560676        2.616351e+14          4.340782   \n",
       "std    5.741148e+07       0.791402        1.032734e+10          1.929937   \n",
       "min    2.016264e+11       1.000000        2.609926e+14          1.000000   \n",
       "25%    2.017123e+11       2.000000        2.616351e+14          3.000000   \n",
       "50%    2.017305e+11       3.000000        2.616352e+14          5.000000   \n",
       "75%    2.018101e+11       3.000000        2.616354e+14          6.000000   \n",
       "max    2.018190e+11       7.000000        2.616399e+14          7.000000   \n",
       "\n",
       "           Longitude       Latitude  \n",
       "count  441576.000000  441576.000000  \n",
       "mean      -83.099933      42.382769  \n",
       "std         0.090638       0.038138  \n",
       "min       -83.287780      42.255712  \n",
       "25%       -83.179104      42.353671  \n",
       "50%       -83.083258      42.380185  \n",
       "75%       -83.033062      42.417137  \n",
       "max       -82.910559      42.450304  "
      ]
     },
     "execution_count": 78,
     "metadata": {},
     "output_type": "execute_result"
    }
   ],
   "source": [
    "df_new.describe()"
   ]
  },
  {
   "cell_type": "code",
   "execution_count": 73,
   "metadata": {},
   "outputs": [
    {
     "name": "stdout",
     "output_type": "stream",
     "text": [
      "<class 'pandas.core.frame.DataFrame'>\n",
      "Int64Index: 441576 entries, 3 to 1173537\n",
      "Data columns (total 25 columns):\n",
      "Incident ID                441576 non-null int64\n",
      "Agency                     441576 non-null object\n",
      "Incident Address           441576 non-null object\n",
      "Zip Code                   441576 non-null object\n",
      "Priority                   441576 non-null float64\n",
      "Call Code                  441576 non-null object\n",
      "Call Description           441576 non-null object\n",
      "Category                   441576 non-null object\n",
      "Call Time                  441576 non-null object\n",
      "Time of Call               441576 non-null object\n",
      "Precinct/Scout Car Area    441576 non-null object\n",
      "Responding Unit            441576 non-null object\n",
      "Officer Initiated          441576 non-null object\n",
      "Intake Time                441576 non-null object\n",
      "Dispatch Time              441576 non-null object\n",
      "Travel Time                441576 non-null object\n",
      "Total Response Time        441576 non-null object\n",
      "Time On Scene              441576 non-null object\n",
      "Total Time                 441576 non-null object\n",
      "Neighborhood               441576 non-null object\n",
      "Census Block GEOID         441576 non-null float64\n",
      "Council District           441576 non-null float64\n",
      "Longitude                  441576 non-null float64\n",
      "Latitude                   441576 non-null float64\n",
      "Incident Location          441576 non-null object\n",
      "dtypes: float64(5), int64(1), object(19)\n",
      "memory usage: 87.6+ MB\n"
     ]
    }
   ],
   "source": [
    "df_new.info()"
   ]
  },
  {
   "cell_type": "code",
   "execution_count": 79,
   "metadata": {},
   "outputs": [
    {
     "data": {
      "text/plain": [
       "(441576, 25)"
      ]
     },
     "execution_count": 79,
     "metadata": {},
     "output_type": "execute_result"
    }
   ],
   "source": [
    "df_new.shape"
   ]
  },
  {
   "cell_type": "code",
   "execution_count": 80,
   "metadata": {},
   "outputs": [
    {
     "data": {
      "text/plain": [
       "Index(['Incident ID', 'Agency', 'Incident Address', 'Zip Code', 'Priority',\n",
       "       'Call Code', 'Call Description', 'Category', 'Call Time',\n",
       "       'Time of Call', 'Precinct/Scout Car Area', 'Responding Unit',\n",
       "       'Officer Initiated', 'Intake Time', 'Dispatch Time', 'Travel Time',\n",
       "       'Total Response Time', 'Time On Scene', 'Total Time', 'Neighborhood',\n",
       "       'Census Block GEOID', 'Council District', 'Longitude', 'Latitude',\n",
       "       'Incident Location'],\n",
       "      dtype='object')"
      ]
     },
     "execution_count": 80,
     "metadata": {},
     "output_type": "execute_result"
    }
   ],
   "source": [
    "df_new.columns"
   ]
  },
  {
   "cell_type": "code",
   "execution_count": 76,
   "metadata": {},
   "outputs": [
    {
     "data": {
      "text/plain": [
       "2"
      ]
     },
     "execution_count": 76,
     "metadata": {},
     "output_type": "execute_result"
    }
   ],
   "source": [
    "df_new.ndim"
   ]
  },
  {
   "cell_type": "markdown",
   "metadata": {},
   "source": [
    "# Exploratory Data Analysis"
   ]
  },
  {
   "cell_type": "code",
   "execution_count": 203,
   "metadata": {},
   "outputs": [],
   "source": [
    "call_description = df_new['Call Description'].value_counts()"
   ]
  },
  {
   "cell_type": "code",
   "execution_count": 204,
   "metadata": {},
   "outputs": [
    {
     "data": {
      "text/plain": [
       "TRAFFIC STOP                      121187\n",
       "SPECIAL ATTENTION                  50073\n",
       "TOWING DETAIL                      26501\n",
       "DISTURBANCE                        22246\n",
       "ASSAULT AND BATTERY                14480\n",
       "UNKNOWN PROBLEM                    13858\n",
       "INVESTIGATE PERSON                 13171\n",
       "LARCENY REPORT                     12458\n",
       "REMARKS                            11919\n",
       "START OF SHIFT INFORMATION         11059\n",
       "UDAA REPORT                         9881\n",
       "FELONIOUS ASSAULT IP                6320\n",
       "AUTO X UNK INJ / IMPAIRED           6239\n",
       "THREATS REPORT                      5512\n",
       "FRAUD REPORT                        5389\n",
       "INVESTIGATE AUTO                    5050\n",
       "ONE DOWN OR OVER THE WHEEL          4544\n",
       "MALICIOUS DESTRUCTION RPT           4346\n",
       "RECOVER AUTO                        4068\n",
       "PERSON WITH WEAPON                  3943\n",
       "VERIFIED ALR / PERSON W/O CODE      3870\n",
       "AUTO X OR PED X - INJURIES          3595\n",
       "INFORMATION/NON-CRIMINAL RPT        3349\n",
       "BURGLARY OCCUPIED RESD I/P          2878\n",
       "PANIC / DURESS ALARM                2789\n",
       "MISCELLANEOUS TRAFFIC               2671\n",
       "SHOTS FIRED IP                      2625\n",
       "AUTO X HIT& RUN UNK INJURIES        2371\n",
       "BURGLARY OTHER                      2347\n",
       "VICIOUS ANIMAL                      2301\n",
       "                                   ...  \n",
       "ALARM MALFUNCTION                      5\n",
       "BE ON THE LOOK OUT                     5\n",
       "PBT TEST                               4\n",
       "ELEVATOR ENTRAPMENT                    4\n",
       "CURFEW VIOLATION                       4\n",
       "UNCONSCIOUS OR FAINTING DELTA          3\n",
       "OVERDOSE DELTA                         3\n",
       "ASSAULT OR SEX ASSAULT DELTA           3\n",
       "BURGLARY ALARM  W/ MOW                 3\n",
       "HPPD BURG ALRM  W/ MOW                 2\n",
       "BACKGROUND CHECK / LIVESCAN            2\n",
       "HPPD BURG ALRM                         2\n",
       "BREATHING PROBLEMS DELTA               2\n",
       "ASSAULT  NOT DANGEROUS OR PREV         2\n",
       "MINOR HEMORRHAGE                       1\n",
       "SUICIDE ATTEMPT DELTA                  1\n",
       "EMPLOYEE CALL IN / TIME OFF            1\n",
       "FALL W SERIOUS HEMORRHAGE              1\n",
       "ATYPICAL SEIZURE OR HX OR CVA          1\n",
       "VIP THREATS J/H OR REPORT              1\n",
       "SICK NON PRIORITY COMPLAINTS           1\n",
       "DANGEROUS HEMORRHAGE DELTA             1\n",
       "BACKGROUND/LEIN CHK / LIVESCAN         1\n",
       "SCHOOL THREATS J/H & RPT               1\n",
       "CITIZEN RADIO PATROL IN TROUBL         1\n",
       "EXPLOSION/RUPTURE NO FIRE              1\n",
       "CONT OR MULTI SEIZURES DELTA           1\n",
       "SCHOOL THREATS I/P                     1\n",
       "NARCOTICS REPORT                       1\n",
       "WRKABLE ARRST/OBV OR EXP DEATH         1\n",
       "Name: Call Description, Length: 201, dtype: int64"
      ]
     },
     "execution_count": 204,
     "metadata": {},
     "output_type": "execute_result"
    }
   ],
   "source": [
    "call_description"
   ]
  },
  {
   "cell_type": "code",
   "execution_count": 87,
   "metadata": {},
   "outputs": [],
   "source": [
    "vals = df_new['Neighborhood'].value_counts()"
   ]
  },
  {
   "cell_type": "code",
   "execution_count": 88,
   "metadata": {},
   "outputs": [],
   "source": [
    "top_ten_neighborhood = vals[0:9]"
   ]
  },
  {
   "cell_type": "code",
   "execution_count": 89,
   "metadata": {},
   "outputs": [
    {
     "data": {
      "text/plain": [
       "Midtown                 13927\n",
       "Warrendale              13492\n",
       "Downtown                13232\n",
       "Franklin Park           10811\n",
       "Airport Sub              6989\n",
       "Claytown                 6373\n",
       "Nolan                    6363\n",
       "Eastern Market           5356\n",
       "Warren Ave Community     5242\n",
       "Name: Neighborhood, dtype: int64"
      ]
     },
     "execution_count": 89,
     "metadata": {},
     "output_type": "execute_result"
    }
   ],
   "source": [
    "top_ten_neighborhood"
   ]
  },
  {
   "cell_type": "markdown",
   "metadata": {},
   "source": [
    "# Top 10 Neighborhood"
   ]
  },
  {
   "cell_type": "code",
   "execution_count": 123,
   "metadata": {},
   "outputs": [
    {
     "data": {
      "text/plain": [
       "Text(0.5,1,'Top 10 Neighborhood')"
      ]
     },
     "execution_count": 123,
     "metadata": {},
     "output_type": "execute_result"
    },
    {
     "data": {
      "image/png": "[encoded data removed]",
      "text/plain": [
       "<matplotlib.figure.Figure at 0x1f290e9bd68>"
      ]
     },
     "metadata": {},
     "output_type": "display_data"
    }
   ],
   "source": [
    "plt.figure(figsize=(8, 5),)\n",
    "ax = top_ten_neighborhood.plot.bar(width = 0.8)\n",
    "for i, v in top_ten_neighborhood.reset_index().iterrows():\n",
    "    ax.text(i, v.Neighborhood + 0.2, v.Neighborhood, color = 'blue')\n",
    "plt.title('Top 10 Neighborhood')"
   ]
  },
  {
   "cell_type": "code",
   "execution_count": 119,
   "metadata": {},
   "outputs": [],
   "source": [
    "vals_1 = df_new['Call Description'].value_counts()"
   ]
  },
  {
   "cell_type": "code",
   "execution_count": 120,
   "metadata": {},
   "outputs": [],
   "source": [
    "top_ten_calls = vals_1[0:9]"
   ]
  },
  {
   "cell_type": "code",
   "execution_count": 121,
   "metadata": {},
   "outputs": [
    {
     "data": {
      "text/plain": [
       "TRAFFIC STOP           121187\n",
       "SPECIAL ATTENTION       50073\n",
       "TOWING DETAIL           26501\n",
       "DISTURBANCE             22246\n",
       "ASSAULT AND BATTERY     14480\n",
       "UNKNOWN PROBLEM         13858\n",
       "INVESTIGATE PERSON      13171\n",
       "LARCENY REPORT          12458\n",
       "REMARKS                 11919\n",
       "Name: Call Description, dtype: int64"
      ]
     },
     "execution_count": 121,
     "metadata": {},
     "output_type": "execute_result"
    }
   ],
   "source": [
    "top_ten_calls"
   ]
  },
  {
   "cell_type": "markdown",
   "metadata": {},
   "source": [
    "# Top 10 Call Descriptions"
   ]
  },
  {
   "cell_type": "code",
   "execution_count": 122,
   "metadata": {},
   "outputs": [
    {
     "data": {
      "text/plain": [
       "Text(0.5,1,'Top 10 Call Descriptions')"
      ]
     },
     "execution_count": 122,
     "metadata": {},
     "output_type": "execute_result"
    },
    {
     "data": {
      "image/png": "[encoded data removed]",
      "text/plain": [
       "<matplotlib.figure.Figure at 0x1f290e8e518>"
      ]
     },
     "metadata": {},
     "output_type": "display_data"
    }
   ],
   "source": [
    "plt.figure(figsize=(10, 6),)\n",
    "ax = top_ten_calls.plot.bar(width = 0.8)\n",
    "for i, v in top_ten_calls.reset_index().iterrows():\n",
    "    ax.text(i, v['Call Description'] + 0.2, v['Call Description'], color = 'blue')\n",
    "plt.title('Top 10 Call Descriptions')"
   ]
  },
  {
   "cell_type": "markdown",
   "metadata": {},
   "source": [
    "# Officers Inititation"
   ]
  },
  {
   "cell_type": "code",
   "execution_count": 95,
   "metadata": {},
   "outputs": [],
   "source": [
    "vals_2 = df_new['Officer Initiated'].value_counts()"
   ]
  },
  {
   "cell_type": "code",
   "execution_count": 96,
   "metadata": {},
   "outputs": [
    {
     "data": {
      "text/plain": [
       "Yes    301088\n",
       "No     140488\n",
       "Name: Officer Initiated, dtype: int64"
      ]
     },
     "execution_count": 96,
     "metadata": {},
     "output_type": "execute_result"
    }
   ],
   "source": [
    "vals_2"
   ]
  },
  {
   "cell_type": "code",
   "execution_count": 117,
   "metadata": {},
   "outputs": [
    {
     "data": {
      "text/plain": [
       "Text(0.5,1,'Officers Inititation')"
      ]
     },
     "execution_count": 117,
     "metadata": {},
     "output_type": "execute_result"
    },
    {
     "data": {
      "image/png": "[encoded data removed]",
      "text/plain": [
       "<matplotlib.figure.Figure at 0x1f2aa1e32b0>"
      ]
     },
     "metadata": {},
     "output_type": "display_data"
    }
   ],
   "source": [
    "plt.figure(figsize=(10, 6),)\n",
    "ax = vals_2.plot.bar(width = 0.5)\n",
    "for i, v in vals_2.reset_index().iterrows():\n",
    "    ax.text(i, v['Officer Initiated'] + 0.2, v['Officer Initiated'], color = 'blue')\n",
    "plt.title('Officers Inititation')"
   ]
  },
  {
   "cell_type": "markdown",
   "metadata": {},
   "source": [
    "# Removal of unsupported characters"
   ]
  },
  {
   "cell_type": "code",
   "execution_count": 47,
   "metadata": {},
   "outputs": [],
   "source": [
    "remove_comma = [x.strip(',') for x in df_new['Total Response Time']]"
   ]
  },
  {
   "cell_type": "code",
   "execution_count": 40,
   "metadata": {},
   "outputs": [],
   "source": [
    "remove_comma_1 = [y.strip(',') for y in df_new['Intake Time']]"
   ]
  },
  {
   "cell_type": "code",
   "execution_count": 41,
   "metadata": {},
   "outputs": [],
   "source": [
    "remove_comma_2 = [y.strip(',') for y in df_new['Dispatch Time']]"
   ]
  },
  {
   "cell_type": "code",
   "execution_count": 42,
   "metadata": {},
   "outputs": [],
   "source": [
    "remove_comma_3 = [y.strip(',') for y in df_new['Travel Time']]"
   ]
  },
  {
   "cell_type": "code",
   "execution_count": 43,
   "metadata": {},
   "outputs": [],
   "source": [
    "remove_comma_4 = [y.strip(',') for y in df_new['Time On Scene']]"
   ]
  },
  {
   "cell_type": "code",
   "execution_count": 44,
   "metadata": {},
   "outputs": [],
   "source": [
    "remove_comma_5 = [y.strip(',') for y in df_new['Total Time']]"
   ]
  },
  {
   "cell_type": "code",
   "execution_count": 45,
   "metadata": {},
   "outputs": [
    {
     "data": {
      "text/plain": [
       "441576"
      ]
     },
     "execution_count": 45,
     "metadata": {},
     "output_type": "execute_result"
    }
   ],
   "source": [
    "len(remove_comma_1)"
   ]
  },
  {
   "cell_type": "markdown",
   "metadata": {},
   "source": [
    "# Number of calls per year"
   ]
  },
  {
   "cell_type": "code",
   "execution_count": 110,
   "metadata": {},
   "outputs": [
    {
     "data": {
      "image/png": "[encoded data removed]",
      "text/plain": [
       "<matplotlib.figure.Figure at 0x1f28be99160>"
      ]
     },
     "metadata": {},
     "output_type": "display_data"
    }
   ],
   "source": [
    "plt.figure(figsize=(20,10))\n",
    "plt.ylabel('Number of Calls', fontsize=20)\n",
    "plt.xlabel('Year', fontsize=20)\n",
    "plt.rcParams['ytick.labelsize'] = 14\n",
    "plt.rcParams['xtick.labelsize'] = 14\n",
    "plt.title('Number of Calls per year')\n",
    "df_new.groupby([df_new.index.year]).size().plot(kind='bar', style=[\"seaborn-whitegrid\"])\n",
    "plt.show()"
   ]
  },
  {
   "cell_type": "code",
   "execution_count": 101,
   "metadata": {},
   "outputs": [
    {
     "data": {
      "image/png": "[encoded data removed]",
      "text/plain": [
       "<matplotlib.figure.Figure at 0x1f2a9fb8ef0>"
      ]
     },
     "metadata": {},
     "output_type": "display_data"
    }
   ],
   "source": [
    "plt.figure(figsize=(12, 6))\n",
    "df_new.resample('Y').size().plot(legend=False)\n",
    "plt.title('Number of call per year (2016 - 2018)')\n",
    "plt.xlabel('Years')\n",
    "plt.ylabel('Number of calls')\n",
    "plt.show()"
   ]
  },
  {
   "cell_type": "markdown",
   "metadata": {},
   "source": [
    "# Average number of calls per month"
   ]
  },
  {
   "cell_type": "code",
   "execution_count": 98,
   "metadata": {},
   "outputs": [
    {
     "name": "stderr",
     "output_type": "stream",
     "text": [
      "C:\\Users\\Anirudh MVR\\Anaconda3\\lib\\site-packages\\ipykernel_launcher.py:1: SettingWithCopyWarning: \n",
      "A value is trying to be set on a copy of a slice from a DataFrame.\n",
      "Try using .loc[row_indexer,col_indexer] = value instead\n",
      "\n",
      "See the caveats in the documentation: http://pandas.pydata.org/pandas-docs/stable/indexing.html#indexing-view-versus-copy\n",
      "  \"\"\"Entry point for launching an IPython kernel.\n"
     ]
    }
   ],
   "source": [
    "df_new['Call Time'] = pd.to_datetime(df_new['Call Time'], format = '%m/%d/%Y %I:%M:%S %p')\n",
    "df_new.index = pd.DatetimeIndex(df_new['Call Time'])"
   ]
  },
  {
   "cell_type": "code",
   "execution_count": 115,
   "metadata": {},
   "outputs": [
    {
     "data": {
      "image/png": "[encoded data removed]",
      "text/plain": [
       "<matplotlib.figure.Figure at 0x1f290ecb2e8>"
      ]
     },
     "metadata": {},
     "output_type": "display_data"
    }
   ],
   "source": [
    "plt.figure(figsize=(20,10))\n",
    "plt.ylabel('Average number of Calls', fontsize=20)\n",
    "plt.xlabel('Month of the year', fontsize=20)\n",
    "#plt.rcParams['ytick.labelsize'] = 14\n",
    "#plt.rcParams['xtick.labelsize'] = 14\n",
    "plt.title('Average number of Calls by month of the year')\n",
    "df_new.groupby([df_new.index.month]).size().plot(kind='bar', style=[\"seaborn-whitegrid\"])\n",
    "plt.show()"
   ]
  },
  {
   "cell_type": "code",
   "execution_count": 111,
   "metadata": {},
   "outputs": [
    {
     "data": {
      "image/png": "[encoded data removed]",
      "text/plain": [
       "<matplotlib.figure.Figure at 0x1f28be933c8>"
      ]
     },
     "metadata": {},
     "output_type": "display_data"
    }
   ],
   "source": [
    "plt.figure(figsize=(12, 6))\n",
    "df_new.resample('M').size().plot(legend=False)\n",
    "plt.title('Average number of calls per month')\n",
    "plt.xlabel('Month')\n",
    "plt.ylabel('Number of calls')\n",
    "plt.show()"
   ]
  },
  {
   "cell_type": "markdown",
   "metadata": {},
   "source": [
    "# Average number of calls per day"
   ]
  },
  {
   "cell_type": "code",
   "execution_count": 106,
   "metadata": {},
   "outputs": [
    {
     "data": {
      "image/png": "[encoded data removed]",
      "text/plain": [
       "<matplotlib.figure.Figure at 0x1f28bca6cf8>"
      ]
     },
     "metadata": {},
     "output_type": "display_data"
    }
   ],
   "source": [
    "plt.figure(figsize=(20,10))\n",
    "plt.ylabel('Number of Calls', fontsize=20)\n",
    "plt.xlabel('Days', fontsize=20)\n",
    "plt.rcParams['ytick.labelsize'] = 14\n",
    "plt.rcParams['xtick.labelsize'] = 14\n",
    "plt.title('Number of Calls by Days')\n",
    "df_new.groupby([df_new.index.day]).size().plot(kind='bar', style=[\"seaborn-whitegrid\"])\n",
    "plt.show()"
   ]
  },
  {
   "cell_type": "markdown",
   "metadata": {},
   "source": [
    "# Correlation"
   ]
  },
  {
   "cell_type": "code",
   "execution_count": 114,
   "metadata": {},
   "outputs": [
    {
     "name": "stderr",
     "output_type": "stream",
     "text": [
      "C:\\Users\\Anirudh MVR\\Anaconda3\\lib\\site-packages\\ipykernel_launcher.py:5: SettingWithCopyWarning: \n",
      "A value is trying to be set on a copy of a slice from a DataFrame\n",
      "\n",
      "See the caveats in the documentation: http://pandas.pydata.org/pandas-docs/stable/indexing.html#indexing-view-versus-copy\n",
      "  \"\"\"\n"
     ]
    },
    {
     "data": {
      "text/plain": [
       "<matplotlib.axes._subplots.AxesSubplot at 0x1f28bbc7b00>"
      ]
     },
     "execution_count": 114,
     "metadata": {},
     "output_type": "execute_result"
    },
    {
     "data": {
      "image/png": "[encoded data removed]",
      "text/plain": [
       "<matplotlib.figure.Figure at 0x1f2822689e8>"
      ]
     },
     "metadata": {},
     "output_type": "display_data"
    }
   ],
   "source": [
    "from sklearn.preprocessing import Normalizer\n",
    "df_sub = dff[['Intake Time','Dispatch Time', 'Travel Time', 'Total Response Time', 'Time On Scene']]\n",
    "df_sub.dropna(inplace=True)\n",
    "df_nor = Normalizer().fit_transform(df_sub)\n",
    "corr = pd.DataFrame(df_nor).corr()\n",
    "\n",
    "sns.heatmap(corr, \n",
    "           xticklabels=df_sub.columns.values,\n",
    "           yticklabels=df_sub.columns.values)"
   ]
  },
  {
   "cell_type": "markdown",
   "metadata": {},
   "source": [
    "# Google Map Plotting"
   ]
  },
  {
   "cell_type": "code",
   "execution_count": 56,
   "metadata": {},
   "outputs": [],
   "source": [
    "from gmplot import gmplot"
   ]
  },
  {
   "cell_type": "code",
   "execution_count": 57,
   "metadata": {},
   "outputs": [],
   "source": [
    "lat = df_new['Latitude']\n",
    "long = df_new['Longitude']"
   ]
  },
  {
   "cell_type": "code",
   "execution_count": 58,
   "metadata": {},
   "outputs": [],
   "source": [
    "gmap = gmplot.GoogleMapPlotter(42.3314, -83.0458, 8)\n",
    "gmap.heatmap(lat, long)"
   ]
  },
  {
   "cell_type": "code",
   "execution_count": 59,
   "metadata": {},
   "outputs": [],
   "source": [
    "gmap.draw('my_map.html')"
   ]
  },
  {
   "cell_type": "markdown",
   "metadata": {},
   "source": [
    "# Summary"
   ]
  },
  {
   "cell_type": "markdown",
   "metadata": {},
   "source": [
    "The name of the dataset is “DPD: 911 Calls for Service”, which has been fetched from the following URL: https://data.detroitmi.gov/Public-Safety/DPD-911-Calls-for-Service-September-20-2016-Presen/wgv9-drfc\n",
    "\n",
    "This raw dataset had 1.17 million rows and 25 columns initially. After the data cleaning, the dataset has 441576 rows and 25 columns. This data represents all the 911 police emergency calls for service response and officer-initiated call for service in the City of Detroit from the beginning September 20, 2016 - present.\n",
    "\n",
    "People call 911 to request police services during emergency. Calls for which officer was initiated include traffic stops, street investigations and other policing activities like observing crimes in progress where the police officers were initiated. This data includes the responding agency, unit, call type and category of each call. The table includes all the calls taken, dispatch time, travel time and total response time for all the calls serviced by a police agency.\n",
    "\n",
    "The first visualization shows the top ten neighborhood from where the highest number of calls were made. In this list of top ten, the highest number of calls were made from “Midtown” and the least number of calls were made from “Warren Ave Community”.\n",
    "\n",
    "The second visualization shows the top ten reasons for people calling the 911 service. In this list of top ten, the highest number of calls were made for “Traffic Stop” and the least number of calls were made for “Remarks”.\n",
    "\n",
    "The third visualization shows the number times, officers being initiated and not being initiated. Officers were initiated for 301088 calls and officers  were not initiated for 140488 calls.\n",
    "\n",
    "The fourth visualization shows the number of calls per year.\n",
    "\n",
    "The fifth visualization shows the average number of calls per month.\n",
    "\n",
    "The sixth visualization shows the average number calls on a daily basis.\n",
    "\n",
    "The seventh visualization shows the correlation. "
   ]
  }
 ],
 "metadata": {
  "kernelspec": {
   "display_name": "Python 3",
   "language": "python",
   "name": "python3"
  },
  "language_info": {
   "codemirror_mode": {
    "name": "ipython",
    "version": 3
   },
   "file_extension": ".py",
   "mimetype": "text/x-python",
   "name": "python",
   "nbconvert_exporter": "python",
   "pygments_lexer": "ipython3",
   "version": "3.6.4"
  }
 },
 "nbformat": 4,
 "nbformat_minor": 2
}
